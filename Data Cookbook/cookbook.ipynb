{
 "cells": [
  {
   "cell_type": "markdown",
   "metadata": {},
   "source": [
    "# Project 10: Data Cookbook\n",
    "\n",
    "## Your name: Audrey Marthin\n",
    "\n",
    "### Your sources: \n",
    "- https://pandas.pydata.org/docs/ \n",
    "- https://stacksoverflow.com \n",
    "- https://seaborn.pydata.org/examples/index.html\n",
    "- geeksforgeeks\n",
    "- Professor Wirfs-Brock's Class Code Demo\n",
    "\n",
    "Due date: Thursday December 14 at 4:00 pm"
   ]
  },
  {
   "cell_type": "markdown",
   "metadata": {},
   "source": [
    "Data Cookbook\n",
    "\n",
    "You will create a cookbook that serves as a collection of the most useful data science techniques you learned this semester, along with sample code that you implement on an actual dataset. Think of this a gift to your future self -- perhaps you are looking back at this class a year from now because you have a data science internship, and you want to remember how to start a web-scraping project, or how to sort a dataframe to find the largest values, etc. I cannot emphasize how useful this kind of resource will be :) I refer to old Jupyter notebooks I have made constantly when starting new projects to find data recipes that I can repurpose. With this assignment, you are setting yourself up to easily be able to find the most useful things you learned this semester.\n",
    "\n",
    "For an example of what I mean by a cookbook, check out Julia Evans' pandas cookbook,Links to an external site. which includes a series of Jupyter notebooks. The SonicPi Code CookbookLinks to an external site. is another nice example (not in Python, but the format is a good model). For a cookbook that is more conceptual and less coding-based, check out the Data Science CookbookLinks to an external site., put together by several people within various Department of Defense roles.\n",
    "\n",
    "Requirements for your Data Cookbook:\n",
    "\n",
    "- Your data cookbook should include at least 4 individual recipes.\n",
    "- Each recipe should include code as well as an explanation of how the code works. It should be clear enough that someone who has not taken this class (but who has taken CS167) can follow it.\n",
    "- The recipes don't have to be huge! (For example, one recipe might be \"How to find the maximum value.\" That recipe would include how to sort a dataframe by the values in a particular column and then print out the largest value.)\n",
    "- Your data recipes should present examples using actual data. (You don't have to use the same dataset for all of the examples, but you can.)\n",
    "- The data you use in your examples cannot come from the shared activities we did (i.e., you CANNOT use the Whitman STEM outcomes data, but you can use the API you explored in Project 6, or your personal data from Project 8, or the data you chose for Project 9).\n",
    "- At least one of your recipes should show two different ways to accomplish the same task."
   ]
  },
  {
   "cell_type": "code",
   "execution_count": null,
   "metadata": {},
   "outputs": [],
   "source": [
    "### "
   ]
  }
 ],
 "metadata": {
  "language_info": {
   "name": "python"
  }
 },
 "nbformat": 4,
 "nbformat_minor": 2
}
