{
 "cells": [
  {
   "cell_type": "markdown",
   "metadata": {},
   "source": [
    "# Chapter 0: Tour of Notebook & Python Review\n",
    "\n",
    "## Author: Audrey Marthin\n",
    "\n",
    "### Sources: \n",
    "- https://pandas.pydata.org/docs/ \n",
    "- https://stacksoverflow.com \n",
    "- https://seaborn.pydata.org/examples/index.html\n",
    "- geeksforgeeks\n",
    "- Professor Wirfs-Brock's Class Code Demo\n",
    "\n",
    "Date: Saturday, December 9"
   ]
  },
  {
   "cell_type": "markdown",
   "metadata": {},
   "source": [
    "### Part 1: Jupyter Notebook\n",
    "Documentation: https://jupyter-notebook.readthedocs.io/en/stable/notebook.html"
   ]
  },
  {
   "cell_type": "markdown",
   "metadata": {},
   "source": [
    "#### What is this?\n",
    "Jupyter Notebook provides a user-friendly way to combine text, code, and visualizations in a single document, making it easy for both beginners and experienced programmers to work on and share projects."
   ]
  },
  {
   "cell_type": "markdown",
   "metadata": {},
   "source": [
    "A notebook is composed of sequence of cells, where each cell can contain either code or text (markdown). \n",
    "\n",
    "Things you can do with the \"cell\":\n",
    "- Add/delete new cell\n",
    "- Move cells\n",
    "- Merge cells\n",
    "- Split cells"
   ]
  },
  {
   "cell_type": "markdown",
   "metadata": {},
   "source": [
    "# This\n",
    "## is\n",
    "### a\n",
    "#### markdown\n",
    "##### \"cell\"\n",
    "type"
   ]
  },
  {
   "cell_type": "code",
   "execution_count": 5,
   "metadata": {},
   "outputs": [
    {
     "data": {
      "text/plain": [
       "4"
      ]
     },
     "execution_count": 5,
     "metadata": {},
     "output_type": "execute_result"
    }
   ],
   "source": [
    "# This is a code \"cell\" \n",
    "\n",
    "# You can write code and execute them in a number of ways:\n",
    "#   - Shift - Enter\n",
    "#   - “Play” button in toolbar or Cell\n",
    "#   - Run (1 cell) or Run All (every cell) in the menu bar\n",
    "\n",
    "2+2"
   ]
  },
  {
   "cell_type": "code",
   "execution_count": 6,
   "metadata": {},
   "outputs": [
    {
     "data": {
      "text/plain": [
       "'Hello There'"
      ]
     },
     "execution_count": 6,
     "metadata": {},
     "output_type": "execute_result"
    }
   ],
   "source": [
    "# Store variables\n",
    "first_var = \"Hello There\"\n",
    "\n",
    "# View variables directly\n",
    "first_var"
   ]
  },
  {
   "cell_type": "code",
   "execution_count": 7,
   "metadata": {},
   "outputs": [
    {
     "name": "stdout",
     "output_type": "stream",
     "text": [
      "Hello There\n"
     ]
    }
   ],
   "source": [
    "# Print variables\n",
    "print(first_var)"
   ]
  },
  {
   "cell_type": "code",
   "execution_count": 8,
   "metadata": {},
   "outputs": [
    {
     "ename": "NameError",
     "evalue": "name 'second_var' is not defined",
     "output_type": "error",
     "traceback": [
      "\u001b[0;31m---------------------------------------------------------------------------\u001b[0m",
      "\u001b[0;31mNameError\u001b[0m                                 Traceback (most recent call last)",
      "\u001b[1;32m/Users/audreymarthin/Whitman College/23:24 Fall/CS 215/project/project10/Data Cookbook/Ch 0: Tour of Notebook & Python Review.ipynb Cell 9\u001b[0m line \u001b[0;36m2\n\u001b[1;32m      <a href='vscode-notebook-cell:/Users/audreymarthin/Whitman%20College/23%3A24%20Fall/CS%20215/project/project10/Data%20Cookbook/Ch%200%3A%20Tour%20of%20Notebook%20%26%20Python%20Review.ipynb#X20sZmlsZQ%3D%3D?line=0'>1</a>\u001b[0m \u001b[39m# This will not work\u001b[39;00m\n\u001b[0;32m----> <a href='vscode-notebook-cell:/Users/audreymarthin/Whitman%20College/23%3A24%20Fall/CS%20215/project/project10/Data%20Cookbook/Ch%200%3A%20Tour%20of%20Notebook%20%26%20Python%20Review.ipynb#X20sZmlsZQ%3D%3D?line=1'>2</a>\u001b[0m second_var\n",
      "\u001b[0;31mNameError\u001b[0m: name 'second_var' is not defined"
     ]
    }
   ],
   "source": [
    "# This will not work\n",
    "second_var"
   ]
  },
  {
   "cell_type": "markdown",
   "metadata": {},
   "source": [
    "Jupyter executes cells in order, so make sure to have codes written in order."
   ]
  },
  {
   "cell_type": "code",
   "execution_count": null,
   "metadata": {},
   "outputs": [],
   "source": [
    "# This will work now\n",
    "second_var = \"Hello Too\"\n",
    "second_var"
   ]
  },
  {
   "cell_type": "code",
   "execution_count": null,
   "metadata": {},
   "outputs": [],
   "source": [
    "# Can also run functions\n",
    "\n",
    "# Wait... what are functions?\n",
    "# It's time for some python review!"
   ]
  },
  {
   "cell_type": "markdown",
   "metadata": {},
   "source": [
    "Before that, remember \"restart\" is your bestfriend in notebook. It helps give a reset by restarting your computer's environment (Kernel) that runs python code."
   ]
  },
  {
   "cell_type": "markdown",
   "metadata": {},
   "source": [
    "### Part 2: Python Review\n",
    "Documentation: https://docs.python.org/3/\n",
    "\n",
    "*We will review basic Python commands and data structures. For more reviews, check out online documentation."
   ]
  },
  {
   "cell_type": "code",
   "execution_count": null,
   "metadata": {},
   "outputs": [],
   "source": [
    "# Strings, Integers, Floats\n",
    "myStr = \"a string\"\n",
    "myInt = 22 # integer\n",
    "myFloat = 2.0 # float\n",
    "\n",
    "# View directly (one at a time)\n",
    "myInt"
   ]
  },
  {
   "cell_type": "code",
   "execution_count": null,
   "metadata": {},
   "outputs": [],
   "source": [
    "# See variable type\n",
    "type(myStr)"
   ]
  },
  {
   "cell_type": "code",
   "execution_count": null,
   "metadata": {},
   "outputs": [],
   "source": [
    "# Print variables\n",
    "print(myStr)\n",
    "print(myInt)\n",
    "print(myFloat)"
   ]
  },
  {
   "cell_type": "code",
   "execution_count": null,
   "metadata": {},
   "outputs": [],
   "source": [
    "# Print in format\n",
    "print(\"I want to print variables in a format. It looks like I have {}, an integer {}, and a float {}.\".format(myInt, myInt, myFloat))"
   ]
  },
  {
   "cell_type": "code",
   "execution_count": null,
   "metadata": {},
   "outputs": [],
   "source": [
    "# Converting integer to string\n",
    "int_to_str = str(myInt)\n",
    "int_to_str"
   ]
  },
  {
   "cell_type": "code",
   "execution_count": null,
   "metadata": {},
   "outputs": [],
   "source": [
    "# Converting string to integer --> only for numeric strings\n",
    "numeric_str = \"20\"\n",
    "str_to_int = int(numeric_str)\n",
    "str_to_int"
   ]
  },
  {
   "cell_type": "code",
   "execution_count": null,
   "metadata": {},
   "outputs": [],
   "source": [
    "# Converting integer to float\n",
    "int_to_float = float(myInt)\n",
    "int_to_float"
   ]
  },
  {
   "cell_type": "code",
   "execution_count": null,
   "metadata": {},
   "outputs": [],
   "source": [
    "# Indexing and Slicing\n",
    "word = \"Checkme\"\n",
    "\n",
    "# Get 2nd letter in word\n",
    "print(word[2])\n",
    "\n",
    "# Get \"Check\" from word\n",
    "print(word[:5]) # remember 5 is not inclusive \n",
    "\n",
    "# Get \"me\" from word\n",
    "print(word[5:])\n",
    "\n",
    "# Get \"hec\" from word\n",
    "print(word[1:4])\n",
    "\n",
    "# Get last letter from word\n",
    "print(word[-1])"
   ]
  },
  {
   "cell_type": "code",
   "execution_count": null,
   "metadata": {},
   "outputs": [],
   "source": [
    "# Lists \n",
    "myList = [\"apple\", \"banana\", \"mango\", \"watermelon\", \"cantaloupe\", \"papaya\"]\n",
    "\n",
    "# View list\n",
    "myList # or can also print"
   ]
  },
  {
   "cell_type": "code",
   "execution_count": null,
   "metadata": {},
   "outputs": [],
   "source": [
    "# Get 3rd item\n",
    "print(myList[2])\n",
    "\n",
    "# Get # of items in list or length of list\n",
    "print(len(myList))\n",
    "\n",
    "# Iterate over items in list\n",
    "# Remember loops here\n",
    "for i in range(len(myList)):\n",
    "    print(myList[i])"
   ]
  },
  {
   "cell_type": "code",
   "execution_count": null,
   "metadata": {},
   "outputs": [],
   "source": [
    "# Dictionaries\n",
    "# Key-Value pairs\n",
    "# Same key doesn't appear twice, but same value can appear\n",
    "myDict = {\"apple\": 1, \"banana\": 2, \"mango\": 3, \"watermelon\": 0, \"cantaloupe\": 4, \"papaya\": 5}\n",
    "\n",
    "# View dictionary\n",
    "myDict"
   ]
  },
  {
   "cell_type": "code",
   "execution_count": null,
   "metadata": {},
   "outputs": [],
   "source": [
    "# Get keys and values\n",
    "print(myDict.keys())\n",
    "print(myDict.values())\n",
    "\n",
    "# Access values\n",
    "print(myDict[\"watermelon\"])\n",
    "print(myDict[\"papaya\"])\n",
    "\n",
    "# Print all key, value pairs\n",
    "for key, val in myDict.items():\n",
    "    print(key, val)"
   ]
  },
  {
   "cell_type": "code",
   "execution_count": null,
   "metadata": {},
   "outputs": [],
   "source": [
    "# Lists and Dictionaries\n",
    "getFruits = [\"apple\", \"banana\"]\n",
    "for fruit in getFruits:\n",
    "    print(myDict[fruit])"
   ]
  },
  {
   "cell_type": "code",
   "execution_count": null,
   "metadata": {},
   "outputs": [],
   "source": [
    "# List of dictionaries\n",
    "myDict2 = {\"tomato\": 2, \"cabbage\": 3, \"spinach\": 4}\n",
    "listOfDicts = [myDict, myDict2]\n",
    "print(listOfDicts)\n",
    "\n",
    "# Access dict 1 \"apple\"\n",
    "print(listOfDicts[0][\"apple\"]) # so index of dictionary as item in list, then key of item in respective dictionary\n",
    "\n",
    "# Access dict 2 \"spinach\"\n",
    "print(listOfDicts[1][\"spinach\"])"
   ]
  },
  {
   "cell_type": "code",
   "execution_count": null,
   "metadata": {},
   "outputs": [],
   "source": [
    "# Function -- finally!\n",
    "# Define function\n",
    "def printAddition(n1, n2):\n",
    "    print(n1+n2)"
   ]
  },
  {
   "cell_type": "code",
   "execution_count": null,
   "metadata": {},
   "outputs": [],
   "source": [
    "# Execute function\n",
    "printAddition(myInt, 3) # can assign previous variables"
   ]
  }
 ],
 "metadata": {
  "kernelspec": {
   "display_name": "base",
   "language": "python",
   "name": "python3"
  },
  "language_info": {
   "codemirror_mode": {
    "name": "ipython",
    "version": 3
   },
   "file_extension": ".py",
   "mimetype": "text/x-python",
   "name": "python",
   "nbconvert_exporter": "python",
   "pygments_lexer": "ipython3",
   "version": "3.11.3"
  }
 },
 "nbformat": 4,
 "nbformat_minor": 2
}
