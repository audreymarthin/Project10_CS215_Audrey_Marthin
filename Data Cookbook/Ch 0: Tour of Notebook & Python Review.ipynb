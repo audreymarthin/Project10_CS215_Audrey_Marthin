{
 "cells": [
  {
   "cell_type": "markdown",
   "metadata": {},
   "source": [
    "# Chapter 0: Tour of Notebook & Python Review\n",
    "\n",
    "## Author: Audrey Marthin\n",
    "\n",
    "### Sources: \n",
    "- https://pandas.pydata.org/docs/ \n",
    "- https://stacksoverflow.com \n",
    "- https://seaborn.pydata.org/examples/index.html\n",
    "- geeksforgeeks\n",
    "- Professor Wirfs-Brock's Class Code Demo\n",
    "\n",
    "Date: Saturday, December 9"
   ]
  },
  {
   "cell_type": "markdown",
   "metadata": {},
   "source": [
    "### Part 1: Jupyter Notebook\n",
    "Documentation: https://jupyter-notebook.readthedocs.io/en/stable/notebook.html"
   ]
  },
  {
   "cell_type": "markdown",
   "metadata": {},
   "source": [
    "#### What is this?\n",
    "Jupyter Notebook provides a user-friendly way to combine text, code, and visualizations in a single document, making it easy for both beginners and experienced programmers to work on and share projects."
   ]
  },
  {
   "cell_type": "markdown",
   "metadata": {},
   "source": [
    "A notebook is composed of sequence of cells, where each cell can contain either code or text (markdown). \n",
    "\n",
    "Things you can do with the \"cell\":\n",
    "- Add/delete new cell\n",
    "- Move cells\n",
    "- Merge cells\n",
    "- Split cells"
   ]
  },
  {
   "cell_type": "markdown",
   "metadata": {},
   "source": [
    "# This\n",
    "## is\n",
    "### a\n",
    "#### markdown\n",
    "##### \"cell\"\n",
    "type"
   ]
  },
  {
   "cell_type": "code",
   "execution_count": 4,
   "metadata": {},
   "outputs": [
    {
     "data": {
      "text/plain": [
       "4"
      ]
     },
     "execution_count": 4,
     "metadata": {},
     "output_type": "execute_result"
    }
   ],
   "source": [
    "# This is a code \"cell\" \n",
    "\n",
    "# You can write code and execute them in a number of ways:\n",
    "#   - Shift - Enter\n",
    "#   - “Play” button in toolbar or Cell\n",
    "#   - Run in the menu bar\n",
    "\n",
    "2+2"
   ]
  },
  {
   "cell_type": "code",
   "execution_count": 3,
   "metadata": {},
   "outputs": [],
   "source": [
    "# Store variables\n",
    "first_var = \"Hello There\"\n",
    "\n",
    "# View variables directly\n",
    "first_var"
   ]
  },
  {
   "cell_type": "code",
   "execution_count": null,
   "metadata": {},
   "outputs": [],
   "source": []
  },
  {
   "cell_type": "markdown",
   "metadata": {},
   "source": [
    "### Part 2: Python Review"
   ]
  },
  {
   "cell_type": "code",
   "execution_count": null,
   "metadata": {},
   "outputs": [],
   "source": []
  }
 ],
 "metadata": {
  "kernelspec": {
   "display_name": "base",
   "language": "python",
   "name": "python3"
  },
  "language_info": {
   "codemirror_mode": {
    "name": "ipython",
    "version": 3
   },
   "file_extension": ".py",
   "mimetype": "text/x-python",
   "name": "python",
   "nbconvert_exporter": "python",
   "pygments_lexer": "ipython3",
   "version": "3.11.3"
  }
 },
 "nbformat": 4,
 "nbformat_minor": 2
}
